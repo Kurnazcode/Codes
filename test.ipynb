{
 "cells": [
  {
   "cell_type": "code",
   "execution_count": 3,
   "metadata": {},
   "outputs": [
    {
     "name": "stdout",
     "output_type": "stream",
     "text": [
      "Predictions for the specific input data:\n",
      "[[68.28219646]]\n",
      "Hyperparameters of the SVR model:\n",
      "estimator__C: 6.209001400255869\n",
      "estimator__cache_size: 200\n",
      "estimator__coef0: 0.0\n",
      "estimator__degree: 3\n",
      "estimator__epsilon: 0.0009183205796320254\n",
      "estimator__gamma: 15.40849089190387\n",
      "estimator__kernel: rbf\n",
      "estimator__max_iter: -1\n",
      "estimator__shrinking: True\n",
      "estimator__tol: 0.001\n",
      "estimator__verbose: False\n",
      "estimator: SVR(C=6.209001400255869, epsilon=0.0009183205796320254, gamma=15.40849089190387)\n",
      "n_jobs: 1\n"
     ]
    },
    {
     "name": "stderr",
     "output_type": "stream",
     "text": [
      "c:\\Users\\mrttl\\anaconda3\\lib\\site-packages\\sklearn\\base.py:464: UserWarning: X does not have valid feature names, but SVR was fitted with feature names\n",
      "  warnings.warn(\n"
     ]
    }
   ],
   "source": [
    "import pandas as pd\n",
    "import joblib\n",
    "from sklearn.pipeline import Pipeline\n",
    "from sklearn.preprocessing import MinMaxScaler\n",
    "\n",
    "# Define the pipeline for the inputs\n",
    "input_pipeline = Pipeline([\n",
    "    ('scaler', MinMaxScaler())\n",
    "])\n",
    "\n",
    "# Define the pipeline for the outputs\n",
    "output_pipeline = Pipeline([\n",
    "    ('scaler', MinMaxScaler())\n",
    "])\n",
    "\n",
    "# Define your specific set of input data\n",
    "specific_input_data = {\n",
    "    'Mach': 0.2,\n",
    "    'YoungsModulus3': 7.1e+10,\n",
    "    'Density1' : 930,\n",
    "    'Density2' : 0.03,\n",
    "    'Density5' : 0.930,\n",
    "    'YoungsModulus4': 1e+6\n",
    "}\n",
    "\n",
    "# Load the fitted model and preprocessing pipelines\n",
    "best_multi_svr = joblib.load('flutter_multi_svr.pkl')\n",
    "input_pipeline = joblib.load('flutter_input_pipeline.pkl')\n",
    "output_pipeline = joblib.load('flutter_output_pipeline.pkl')\n",
    "\n",
    "\n",
    "# Convert specific input data to DataFrame\n",
    "X_new = pd.DataFrame([specific_input_data])\n",
    "\n",
    "# Transform the input data using the same pipeline\n",
    "X_new_scaled = input_pipeline.transform(X_new)\n",
    "\n",
    "# Make predictions using the specific input data\n",
    "predictions_scaled = best_multi_svr.predict(X_new_scaled)\n",
    "\n",
    "# Inverse transform the predictions to get the actual values\n",
    "predictions = output_pipeline.inverse_transform(predictions_scaled)\n",
    "\n",
    "# Display the predictions\n",
    "print(\"Predictions for the specific input data:\")\n",
    "print(predictions)\n",
    "\n",
    "# Get the hyperparameters of the SVR model\n",
    "params = best_multi_svr.get_params()\n",
    "\n",
    "# Display the hyperparameters\n",
    "print(\"Hyperparameters of the SVR model:\")\n",
    "for param, value in params.items():\n",
    "    print(f\"{param}: {value}\")"
   ]
  }
 ],
 "metadata": {
  "kernelspec": {
   "display_name": "base",
   "language": "python",
   "name": "python3"
  },
  "language_info": {
   "codemirror_mode": {
    "name": "ipython",
    "version": 3
   },
   "file_extension": ".py",
   "mimetype": "text/x-python",
   "name": "python",
   "nbconvert_exporter": "python",
   "pygments_lexer": "ipython3",
   "version": "3.10.14"
  }
 },
 "nbformat": 4,
 "nbformat_minor": 2
}
